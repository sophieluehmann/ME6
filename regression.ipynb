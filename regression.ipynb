{
 "cells": [
  {
   "cell_type": "markdown",
   "metadata": {},
   "source": [
    "## ME6 Linear Regression with Gradient Descent\n",
    "\n",
    "Write your name and your collaborators if any. \n",
    "\n",
    "- Sophia Luehmann\n",
    "- Gabriel Suarez"
   ]
  },
  {
   "cell_type": "markdown",
   "metadata": {},
   "source": [
    "### Set up "
   ]
  },
  {
   "cell_type": "code",
   "execution_count": 1,
   "metadata": {},
   "outputs": [],
   "source": [
    "# Python ≥3.5 is required\n",
    "import sys\n",
    "assert sys.version_info >= (3, 5)\n",
    "\n",
    "# Scikit-Learn ≥0.20 is required\n",
    "import sklearn\n",
    "assert sklearn.__version__ >= \"0.20\"\n",
    "\n",
    "# Common imports\n",
    "import numpy as np\n",
    "import pandas as pd\n",
    "import os\n",
    "from sklearn.model_selection import train_test_split\n",
    "\n",
    "# To plot pretty figures\n",
    "%matplotlib inline\n",
    "import matplotlib as mpl\n",
    "import matplotlib.pyplot as plt\n",
    "mpl.rc('axes', labelsize=14)\n",
    "mpl.rc('xtick', labelsize=12)\n",
    "mpl.rc('ytick', labelsize=12)\n",
    "\n",
    "# to make this notebook's output stable across runs\n",
    "np.random.seed(42)\n",
    "\n",
    "# Where to save the figures\n",
    "PROJECT_ROOT_DIR = \".\"\n",
    "CHAPTER_ID = \"decision_trees\"\n",
    "IMAGES_PATH = os.path.join(PROJECT_ROOT_DIR, \"images\", CHAPTER_ID)\n",
    "\n",
    "os.makedirs(IMAGES_PATH, exist_ok=True)\n",
    "\n",
    "def save_fig(fig_id, tight_layout=True, fig_extension=\"png\", resolution=300):\n",
    "    path = os.path.join(IMAGES_PATH, fig_id + \".\" + fig_extension)\n",
    "    print(\"Saving figure\", fig_id)\n",
    "    if tight_layout:\n",
    "        plt.tight_layout()\n",
    "    plt.savefig(path, format=fig_extension, dpi=resolution)"
   ]
  },
  {
   "cell_type": "markdown",
   "metadata": {},
   "source": [
    "## Part 0\n",
    "\n",
    "- Read and run each cell of the given examples: (1) synthetic dataset (2) crime dataset\n",
    "\n",
    "- Understand the results. In particular, see how feature normalization affects on ridges regression and how the model performance changes when varying alpha parameter values are used in both ridge regression and Lasso regression. \n",
    "\n",
    "### Linear models for regression\n",
    "\n",
    "- Visit sklearn web site:\n",
    "   - https://scikit-learn.org/stable/modules/generated/sklearn.linear_model.LinearRegression.html\n",
    "\n",
    "\n",
    "- Please also check model evaluation metrics for regression:\n",
    "\n",
    "    - https://scikit-learn.org/stable/modules/model_evaluation.html\n",
    "\n",
    "    - ME5 Simple Linear Regression shows evaluation metrics for regression in detail. "
   ]
  },
  {
   "cell_type": "markdown",
   "metadata": {},
   "source": [
    "### Preparing X and Y using pandas\n",
    "- We already did this process above\n",
    "- scikit-learn expects X (feature matrix) and Y (response vector) to be NumPy arrays.\n",
    "- However, pandas is built on top of NumPy.\n",
    "- Thus, X can be a pandas DataFrame and y can be a pandas Series!"
   ]
  },
  {
   "cell_type": "markdown",
   "metadata": {},
   "source": [
    "### Dataset 1: Synthetic random data points\n",
    "\n",
    "- One single attribute in X"
   ]
  },
  {
   "cell_type": "code",
   "execution_count": 2,
   "metadata": {},
   "outputs": [
    {
     "data": {
      "image/png": "[encoded data removed]",
      "text/plain": [
       "<Figure size 432x288 with 1 Axes>"
      ]
     },
     "metadata": {
      "needs_background": "light"
     },
     "output_type": "display_data"
    }
   ],
   "source": [
    "from sklearn.datasets import make_classification, make_blobs\n",
    "from matplotlib.colors import ListedColormap\n",
    "\n",
    "# synthetic dataset for simple regression\n",
    "from sklearn.datasets import make_regression\n",
    "\n",
    "plt.figure()\n",
    "plt.title('Sample regression problem with one input variable')\n",
    "X_R1, y_R1 = make_regression(n_samples = 100, n_features=1,\n",
    "                             n_informative=1, bias = 150.0,\n",
    "                             noise = 30, random_state=0)\n",
    "\n",
    "plt.scatter(X_R1, y_R1, marker= 'o', s=50)\n",
    "plt.show()"
   ]
  },
  {
   "cell_type": "markdown",
   "metadata": {},
   "source": [
    "#### Linear regression on synthetic dataset\n"
   ]
  },
  {
   "cell_type": "code",
   "execution_count": 3,
   "metadata": {},
   "outputs": [],
   "source": [
    "from sklearn.linear_model import LinearRegression\n",
    "\n",
    "X_train, X_test, y_train, y_test = train_test_split(X_R1, y_R1, random_state=0)\n",
    "\n",
    "linreg = LinearRegression().fit(X_train, y_train)"
   ]
  },
  {
   "cell_type": "markdown",
   "metadata": {},
   "source": [
    "#### Linear regression model coefficient and intercept values \\& performance metrics"
   ]
  },
  {
   "cell_type": "code",
   "execution_count": 4,
   "metadata": {
    "scrolled": true
   },
   "outputs": [
    {
     "name": "stdout",
     "output_type": "stream",
     "text": [
      "linear model intercept (b): 148.446\n",
      "linear model coeff (w): [45.70870465]\n",
      "R-squared score (training): 0.679\n",
      "R-squared score (test): 0.492\n",
      "RMSE: 33.203\n",
      "(100, 1) \n",
      " (100,)\n"
     ]
    }
   ],
   "source": [
    "from sklearn import metrics\n",
    "\n",
    "print('linear model intercept (b): {:.3f}'.format(linreg.intercept_))\n",
    "print('linear model coeff (w): {}'.format(linreg.coef_))\n",
    "\n",
    "# train data R2\n",
    "print('R-squared score (training): {:.3f}'.format(linreg.score(X_train, y_train)))\n",
    "# test data R2\n",
    "print('R-squared score (test): {:.3f}'.format(linreg.score(X_test, y_test)))\n",
    "\n",
    "# make predictions on the testing set and print RMSE\n",
    "y_pred = linreg.predict(X_test)\n",
    "print('RMSE: {:.3f}'.format(np.sqrt(metrics.mean_squared_error(y_test, y_pred))))\n",
    "\n",
    "print(X_R1.shape, '\\n', y_R1.shape)"
   ]
  },
  {
   "cell_type": "markdown",
   "metadata": {},
   "source": [
    "### Linear regression cost optimization\n",
    "\n",
    "First, we add 1 for x0 value to each data tuple"
   ]
  },
  {
   "cell_type": "code",
   "execution_count": 5,
   "metadata": {},
   "outputs": [
    {
     "name": "stdout",
     "output_type": "stream",
     "text": [
      "(100, 2) \n",
      " (100, 1)\n"
     ]
    }
   ],
   "source": [
    "X_b = np.c_[np.ones((100, 1)), X_R1]  # add x0 = 1 to each data tuple\n",
    "y_b = y_R1.reshape(100, 1)\n",
    "\n",
    "print(X_b.shape, '\\n', y_b.shape)"
   ]
  },
  {
   "cell_type": "markdown",
   "metadata": {},
   "source": [
    "#### Obtain the exact theta vector using close form\n",
    "\n",
    "<img src=\"images/cf.png\" style=\"width: 200px;\">"
   ]
  },
  {
   "cell_type": "code",
   "execution_count": 6,
   "metadata": {},
   "outputs": [
    {
     "data": {
      "text/plain": [
       "array([147.55745452,  43.08728116])"
      ]
     },
     "execution_count": 6,
     "metadata": {},
     "output_type": "execute_result"
    }
   ],
   "source": [
    "theta_best = np.linalg.inv(X_b.T.dot(X_b)).dot(X_b.T).dot(y_R1)\n",
    "theta_best"
   ]
  },
  {
   "cell_type": "markdown",
   "metadata": {},
   "source": [
    "#### Obtain theta using Gradient Descent"
   ]
  },
  {
   "cell_type": "code",
   "execution_count": 7,
   "metadata": {},
   "outputs": [
    {
     "name": "stdout",
     "output_type": "stream",
     "text": [
      "initial theta: \n",
      " [[ 0.49671415]\n",
      " [-0.1382643 ]] (2, 1)\n"
     ]
    }
   ],
   "source": [
    "# learning rate\n",
    "alpha = 0.01\n",
    "\n",
    "# number of iterations\n",
    "n_iteration = 100\n",
    "\n",
    "# the number of data points\n",
    "n = 100\n",
    "\n",
    "# random initialization to theta. \n",
    "# Return samples (2 values for theta0 for x0 and theta1 for x1) \n",
    "# from the “standard normal” distribution.\n",
    "theta = np.random.randn(2, 1)\n",
    "\n",
    "print('initial theta: \\n', theta, theta.shape)"
   ]
  },
  {
   "cell_type": "code",
   "execution_count": 8,
   "metadata": {},
   "outputs": [
    {
     "name": "stdout",
     "output_type": "stream",
     "text": [
      "best theta: \n",
      " [[94.57899586]\n",
      " [30.76669701]]\n"
     ]
    }
   ],
   "source": [
    "# the process of gradient descent\n",
    "for iteration in range(n_iteration):\n",
    "    gradient = (1/n) * X_b.T.dot(X_b.dot(theta) - y_b)\n",
    "    theta = theta - alpha*gradient\n",
    "    \n",
    "print('best theta: \\n', theta)\n",
    "\n",
    "# we will need to tune with learning rate alpha and # of iterations\n",
    "# to find out the optimal theta value"
   ]
  },
  {
   "cell_type": "markdown",
   "metadata": {},
   "source": [
    "#### plot the linear model with scatter plot"
   ]
  },
  {
   "cell_type": "code",
   "execution_count": 9,
   "metadata": {},
   "outputs": [
    {
     "data": {
      "image/png": "[encoded data removed]",
      "text/plain": [
       "<Figure size 360x288 with 1 Axes>"
      ]
     },
     "metadata": {
      "needs_background": "light"
     },
     "output_type": "display_data"
    }
   ],
   "source": [
    "plt.figure(figsize=(5,4))\n",
    "plt.scatter(X_R1, y_R1, marker= 'o', s=50, alpha=0.8)\n",
    "plt.plot(X_R1, linreg.coef_ * X_R1 + linreg.intercept_, 'r-')\n",
    "plt.title('Least-squares linear regression')\n",
    "plt.xlabel('Feature value (x)')\n",
    "plt.ylabel('Target value (y)')\n",
    "plt.show()"
   ]
  },
  {
   "cell_type": "markdown",
   "metadata": {},
   "source": [
    "### Dataset 2: crime dataset"
   ]
  },
  {
   "cell_type": "code",
   "execution_count": 10,
   "metadata": {},
   "outputs": [],
   "source": [
    "def load_crime_dataset():\n",
    "    # Communities and Crime dataset for regression\n",
    "    # https://archive.ics.uci.edu/ml/datasets/Communities+and+Crime+Unnormalized\n",
    "\n",
    "    # na_values='?'\n",
    "    crime = pd.read_csv('./data/CommViolPredUnnormalizedData.csv', na_values='?')\n",
    "    # remove features with poor coverage or lower relevance, and keep ViolentCrimesPerPop target column\n",
    "    columns_to_keep = [5, 6] + list(range(11,26)) + list(range(32, 103)) + [145]  \n",
    "    \n",
    "    crime = crime.iloc[:, columns_to_keep]\n",
    "    crime = crime.dropna()\n",
    "    \n",
    "    X_crime = crime.iloc[:, 0:88]\n",
    "    y_crime = crime['ViolentCrimesPerPop']\n",
    "\n",
    "    return (X_crime, y_crime)"
   ]
  },
  {
   "cell_type": "code",
   "execution_count": 11,
   "metadata": {},
   "outputs": [],
   "source": [
    "# Communities and Crime dataset\n",
    "(X_crime, y_crime) = load_crime_dataset()\n",
    "\n",
    "#print(X_crime.head())\n",
    "#print(y_crime.head())"
   ]
  },
  {
   "cell_type": "code",
   "execution_count": 12,
   "metadata": {},
   "outputs": [
    {
     "name": "stdout",
     "output_type": "stream",
     "text": [
      "(1994, 88) \n",
      " (1994,)\n"
     ]
    }
   ],
   "source": [
    "print(X_crime.shape, '\\n', y_crime.shape)"
   ]
  },
  {
   "cell_type": "code",
   "execution_count": 13,
   "metadata": {},
   "outputs": [
    {
     "data": {
      "text/plain": [
       "(1994, 89)"
      ]
     },
     "execution_count": 13,
     "metadata": {},
     "output_type": "execute_result"
    }
   ],
   "source": [
    "X = np.c_[np.ones((1994, 1)), X_crime]\n",
    "X.shape\n",
    "# now there are 89 attributes including x0 and 88 data attributes"
   ]
  },
  {
   "cell_type": "code",
   "execution_count": 14,
   "metadata": {
    "scrolled": true
   },
   "outputs": [
    {
     "name": "stdout",
     "output_type": "stream",
     "text": [
      "(1994, 1) \n",
      " [[ 41.02]\n",
      " [127.56]\n",
      " [218.59]\n",
      " ...\n",
      " [353.83]\n",
      " [691.17]\n",
      " [918.89]]\n"
     ]
    }
   ],
   "source": [
    "y = y_crime.values.reshape(1994, 1)\n",
    "\n",
    "print(y.shape,'\\n', y)"
   ]
  },
  {
   "cell_type": "code",
   "execution_count": 15,
   "metadata": {},
   "outputs": [
    {
     "name": "stdout",
     "output_type": "stream",
     "text": [
      "(89, 1) \n",
      " [[ 0.64768854]\n",
      " [ 1.52302986]\n",
      " [-0.23415337]\n",
      " [-0.23413696]\n",
      " [ 1.57921282]\n",
      " [ 0.76743473]\n",
      " [-0.46947439]\n",
      " [ 0.54256004]\n",
      " [-0.46341769]\n",
      " [-0.46572975]\n",
      " [ 0.24196227]\n",
      " [-1.91328024]\n",
      " [-1.72491783]\n",
      " [-0.56228753]\n",
      " [-1.01283112]\n",
      " [ 0.31424733]\n",
      " [-0.90802408]\n",
      " [-1.4123037 ]\n",
      " [ 1.46564877]\n",
      " [-0.2257763 ]\n",
      " [ 0.0675282 ]\n",
      " [-1.42474819]\n",
      " [-0.54438272]\n",
      " [ 0.11092259]\n",
      " [-1.15099358]\n",
      " [ 0.37569802]\n",
      " [-0.60063869]\n",
      " [-0.29169375]\n",
      " [-0.60170661]\n",
      " [ 1.85227818]\n",
      " [-0.01349722]\n",
      " [-1.05771093]\n",
      " [ 0.82254491]\n",
      " [-1.22084365]\n",
      " [ 0.2088636 ]\n",
      " [-1.95967012]\n",
      " [-1.32818605]\n",
      " [ 0.19686124]\n",
      " [ 0.73846658]\n",
      " [ 0.17136828]\n",
      " [-0.11564828]\n",
      " [-0.3011037 ]\n",
      " [-1.47852199]\n",
      " [-0.71984421]\n",
      " [-0.46063877]\n",
      " [ 1.05712223]\n",
      " [ 0.34361829]\n",
      " [-1.76304016]\n",
      " [ 0.32408397]\n",
      " [-0.38508228]\n",
      " [-0.676922  ]\n",
      " [ 0.61167629]\n",
      " [ 1.03099952]\n",
      " [ 0.93128012]\n",
      " [-0.83921752]\n",
      " [-0.30921238]\n",
      " [ 0.33126343]\n",
      " [ 0.97554513]\n",
      " [-0.47917424]\n",
      " [-0.18565898]\n",
      " [-1.10633497]\n",
      " [-1.19620662]\n",
      " [ 0.81252582]\n",
      " [ 1.35624003]\n",
      " [-0.07201012]\n",
      " [ 1.0035329 ]\n",
      " [ 0.36163603]\n",
      " [-0.64511975]\n",
      " [ 0.36139561]\n",
      " [ 1.53803657]\n",
      " [-0.03582604]\n",
      " [ 1.56464366]\n",
      " [-2.6197451 ]\n",
      " [ 0.8219025 ]\n",
      " [ 0.08704707]\n",
      " [-0.29900735]\n",
      " [ 0.09176078]\n",
      " [-1.98756891]\n",
      " [-0.21967189]\n",
      " [ 0.35711257]\n",
      " [ 1.47789404]\n",
      " [-0.51827022]\n",
      " [-0.8084936 ]\n",
      " [-0.50175704]\n",
      " [ 0.91540212]\n",
      " [ 0.32875111]\n",
      " [-0.5297602 ]\n",
      " [ 0.51326743]\n",
      " [ 0.09707755]]\n"
     ]
    }
   ],
   "source": [
    "eta = 0.05  # learning rate\n",
    "n_iterations = 10 # number of total iterations\n",
    "n = 1994 # the number of data\n",
    "\n",
    "theta = np.random.randn(89, 1)  # random initialization\n",
    "\n",
    "print(theta.shape, '\\n', theta)"
   ]
  },
  {
   "cell_type": "code",
   "execution_count": 16,
   "metadata": {},
   "outputs": [
    {
     "name": "stdout",
     "output_type": "stream",
     "text": [
      "[[1.27504115e+91]\n",
      " [4.56264828e+96]\n",
      " [3.45641065e+91]\n",
      " [1.77764525e+92]\n",
      " [3.51262046e+92]\n",
      " [1.75422700e+92]\n",
      " [1.45770684e+92]\n",
      " [4.52407678e+96]\n",
      " [1.07634968e+93]\n",
      " [4.77536285e+95]\n",
      " [1.00997443e+93]\n",
      " [1.01037333e+91]\n",
      " [5.74748630e+92]\n",
      " [3.17882609e+92]\n",
      " [8.57298502e+91]\n",
      " [1.97793067e+92]\n",
      " [5.55749161e+95]\n",
      " [2.24171790e+95]\n",
      " [8.08064166e+95]\n",
      " [1.39707822e+92]\n",
      " [1.11397375e+92]\n",
      " [2.69435135e+92]\n",
      " [3.37503257e+92]\n",
      " [7.46114859e+91]\n",
      " [8.03391501e+92]\n",
      " [2.12419302e+92]\n",
      " [3.18928410e+92]\n",
      " [1.53954899e+92]\n",
      " [3.93343047e+92]\n",
      " [1.16579069e+92]\n",
      " [4.14455881e+92]\n",
      " [1.60099534e+92]\n",
      " [1.39328217e+92]\n",
      " [4.02031371e+91]\n",
      " [9.38817984e+92]\n",
      " [8.98613558e+92]\n",
      " [1.04715777e+93]\n",
      " [9.52943136e+92]\n",
      " [7.52683127e+92]\n",
      " [8.60513783e+92]\n",
      " [2.85972636e+95]\n",
      " [4.71673543e+91]\n",
      " [1.13246801e+96]\n",
      " [1.85010882e+92]\n",
      " [2.81957562e+92]\n",
      " [3.84078696e+92]\n",
      " [4.84472743e+92]\n",
      " [2.29862212e+91]\n",
      " [3.55874126e+91]\n",
      " [4.87509513e+91]\n",
      " [6.22028225e+91]\n",
      " [1.05178633e+93]\n",
      " [4.61465434e+91]\n",
      " [7.71774718e+91]\n",
      " [5.48588898e+91]\n",
      " [3.34999284e+91]\n",
      " [3.52067902e+91]\n",
      " [3.04467508e+91]\n",
      " [8.11085084e+92]\n",
      " [6.85788747e+91]\n",
      " [6.05600311e+92]\n",
      " [3.27564666e+91]\n",
      " [1.25226433e+95]\n",
      " [1.18593229e+93]\n",
      " [7.72616152e+92]\n",
      " [4.01160788e+91]\n",
      " [4.17789248e+92]\n",
      " [2.50133432e+94]\n",
      " [4.62514634e+91]\n",
      " [5.66479160e+90]\n",
      " [1.55782994e+96]\n",
      " [1.98609516e+96]\n",
      " [2.54091085e+96]\n",
      " [9.83080911e+95]\n",
      " [4.86533479e+93]\n",
      " [6.34249748e+93]\n",
      " [7.82164560e+93]\n",
      " [2.95631081e+93]\n",
      " [7.22565727e+93]\n",
      " [3.40099321e+92]\n",
      " [2.82537443e+92]\n",
      " [1.65656595e+92]\n",
      " [1.12936411e+94]\n",
      " [4.82521708e+93]\n",
      " [1.43295948e+92]\n",
      " [7.12431879e+92]\n",
      " [6.54560102e+92]\n",
      " [9.84449531e+92]\n",
      " [1.11011595e+93]]\n"
     ]
    }
   ],
   "source": [
    "for iteration in range(n_iterations):\n",
    "    gradient = (1/n) * X.T.dot(X.dot(theta) - y)\n",
    "    theta = theta - eta * gradient\n",
    "    \n",
    "print(theta)"
   ]
  },
  {
   "cell_type": "code",
   "execution_count": 17,
   "metadata": {},
   "outputs": [
    {
     "name": "stdout",
     "output_type": "stream",
     "text": [
      "41.02 \n",
      " [[1.99497415e+102]]\n"
     ]
    }
   ],
   "source": [
    "X_new = X_crime.iloc[:1, 0:88]\n",
    "X_new_b = np.c_[np.ones((1, 1)), X_new] \n",
    "y_new = y_crime[0]\n",
    "\n",
    "y_predict = X_new_b.dot(theta)\n",
    "\n",
    "print(y_new, '\\n', y_predict)"
   ]
  },
  {
   "cell_type": "code",
   "execution_count": null,
   "metadata": {},
   "outputs": [],
   "source": []
  },
  {
   "cell_type": "markdown",
   "metadata": {},
   "source": [
    "#### Linear regression on crime dataset (without regularization)"
   ]
  },
  {
   "cell_type": "code",
   "execution_count": 18,
   "metadata": {},
   "outputs": [
    {
     "name": "stdout",
     "output_type": "stream",
     "text": [
      "Crime dataset\n",
      "R-squared score (training): 0.673\n",
      "R-squared score (test): 0.496\n",
      "RMSE: 454.949\n",
      "linear model intercept: -1728.130672581738\n",
      "linear model coeff:\n",
      "[ 1.61892346e-03 -9.43009110e+01  1.36067510e+01 -3.13380670e+01\n",
      " -8.15482717e-02 -1.69455128e+01 -2.42730375e-03  1.53013232e+00\n",
      " -1.39193248e-02 -7.72112833e+00  2.28112354e+01 -5.65708295e+00\n",
      "  9.34751364e+00  2.06969566e-01 -7.43413626e+00  9.65856476e-03\n",
      "  4.38030290e-03  4.79754625e-03 -4.46469212e+00 -1.60907140e+01\n",
      "  8.82778012e+00 -5.06734503e-01 -1.42198055e+00  8.17551991e+00\n",
      " -3.87048268e+00 -3.54209213e+00  4.48758304e+00  9.30645715e+00\n",
      "  1.73644996e+02  1.18220766e+01  1.51120836e+02 -3.29613007e+02\n",
      " -1.35343395e+02  6.95380108e-01 -2.38369008e+01  2.77038981e+00\n",
      "  3.82248925e-01  4.38813358e+00 -1.06410851e+01 -4.92294176e-03\n",
      "  4.14031827e+01 -1.16206866e-03  1.18568968e+00  1.75418465e+00\n",
      " -3.68283678e+00  1.59679443e+00 -8.42180230e+00 -3.79703897e+01\n",
      "  4.74076990e+01 -2.50768374e+01 -2.88246410e-01 -3.65633234e+01\n",
      "  1.89516080e+01 -4.53336736e+01  6.82698598e+02  1.04478671e+02\n",
      " -3.28575414e+02 -3.14364068e+01  2.74053494e+01  5.12336432e+00\n",
      "  6.91580764e+01  1.98267157e-02 -6.12133638e-01  2.65335065e+01\n",
      "  1.00704633e+01 -1.58621594e+00  2.24025322e+00  7.38288450e+00\n",
      " -3.13915504e+01 -9.78055570e-05  5.01970945e-05 -3.48039602e-04\n",
      " -2.50245747e-04 -5.26610456e-01 -5.16564774e-01 -4.10464090e-01\n",
      "  1.16146366e-01  1.46167357e+00 -3.04019816e-01  2.43792841e+00\n",
      " -3.65615457e+01  1.41488917e-01  2.88800603e-01  1.77464865e+01\n",
      "  5.96587698e-01  1.98257510e+00 -1.36380442e-01 -1.85303461e+00]\n",
      "Number of non-zero features: 88\n"
     ]
    }
   ],
   "source": [
    "X_train, X_test, y_train, y_test = train_test_split(X_crime, y_crime, random_state=0)\n",
    "linreg = LinearRegression().fit(X_train, y_train)\n",
    "\n",
    "print('Crime dataset')\n",
    "print('R-squared score (training): {:.3f}'\n",
    "     .format(linreg.score(X_train, y_train)))\n",
    "print('R-squared score (test): {:.3f}'\n",
    "     .format(linreg.score(X_test, y_test)))\n",
    "\n",
    "# make predictions on the testing set\n",
    "y_pred = linreg.predict(X_test)\n",
    "print('RMSE: {:.3f}'.format(np.sqrt(metrics.mean_squared_error(y_test, y_pred))))\n",
    "\n",
    "print('linear model intercept: {}'.format(linreg.intercept_))\n",
    "print('linear model coeff:\\n{}'.format(linreg.coef_))\n",
    "\n",
    "print('Number of non-zero features: {}'.format(np.sum(linreg.coef_ != 0)))"
   ]
  },
  {
   "cell_type": "markdown",
   "metadata": {},
   "source": [
    "#### Ridge regression (regularized regression)"
   ]
  },
  {
   "cell_type": "code",
   "execution_count": 19,
   "metadata": {},
   "outputs": [
    {
     "name": "stdout",
     "output_type": "stream",
     "text": [
      "Crime dataset\n",
      "R-squared score (training): 0.671\n",
      "R-squared score (test): 0.494\n",
      "RMSE: 454.949\n",
      "ridge regression linear model intercept: -3352.4230358460277\n",
      "ridge regression linear model coeff:\n",
      "[ 1.95091438e-03  2.19322667e+01  9.56286607e+00 -3.59178973e+01\n",
      "  6.36465325e+00 -1.96885471e+01 -2.80715856e-03  1.66254486e+00\n",
      " -6.61426604e-03 -6.95450680e+00  1.71944731e+01 -5.62819154e+00\n",
      "  8.83525114e+00  6.79085746e-01 -7.33614221e+00  6.70389803e-03\n",
      "  9.78505502e-04  5.01202169e-03 -4.89870524e+00 -1.79270062e+01\n",
      "  9.17572382e+00 -1.24454193e+00  1.21845360e+00  1.03233089e+01\n",
      " -3.78037278e+00 -3.73428973e+00  4.74595305e+00  8.42696855e+00\n",
      "  3.09250005e+01  1.18644167e+01 -2.05183675e+00 -3.82210450e+01\n",
      "  1.85081589e+01  1.52510829e+00 -2.20086608e+01  2.46283912e+00\n",
      "  3.29328703e-01  4.02228467e+00 -1.12903533e+01 -4.69567413e-03\n",
      "  4.27046505e+01 -1.22507167e-03  1.40795790e+00  9.35041855e-01\n",
      " -3.00464253e+00  1.12390514e+00 -1.82487653e+01 -1.54653407e+01\n",
      "  2.41917002e+01 -1.32497562e+01 -4.20113118e-01 -3.59710660e+01\n",
      "  1.29786751e+01 -2.80765995e+01  4.38513476e+01  3.86590044e+01\n",
      " -6.46024046e+01 -1.63714023e+01  2.90397330e+01  4.15472907e+00\n",
      "  5.34033563e+01  1.98773191e-02 -5.47413979e-01  1.23883518e+01\n",
      "  1.03526583e+01 -1.57238894e+00  3.15887097e+00  8.77757987e+00\n",
      " -2.94724962e+01 -2.32877243e-04  3.13528914e-04 -4.13746568e-04\n",
      " -1.79732902e-04 -5.74054527e-01 -5.17742507e-01 -4.20670930e-01\n",
      "  1.53383594e-01  1.32725423e+00  3.84863158e+00  3.03024594e+00\n",
      " -3.77692644e+01  1.37933464e-01  3.07676522e-01  1.57128807e+01\n",
      "  3.31418306e-01  3.35994414e+00  1.61265911e-01 -2.67619878e+00]\n",
      "Number of non-zero features: 88\n"
     ]
    }
   ],
   "source": [
    "from sklearn.linear_model import Ridge\n",
    "X_train, X_test, y_train, y_test = train_test_split(X_crime, y_crime, random_state=0)\n",
    "\n",
    "linridge = Ridge(alpha=20.0).fit(X_train, y_train)\n",
    "\n",
    "print('Crime dataset')\n",
    "\n",
    "print('R-squared score (training): {:.3f}'\n",
    "     .format(linridge.score(X_train, y_train)))\n",
    "print('R-squared score (test): {:.3f}'\n",
    "     .format(linridge.score(X_test, y_test)))\n",
    "\n",
    "# make predictions on the testing set\n",
    "y_pred = linreg.predict(X_test)\n",
    "print('RMSE: {:.3f}'.format(np.sqrt(metrics.mean_squared_error(y_test, y_pred))))\n",
    "\n",
    "print('ridge regression linear model intercept: {}'.format(linridge.intercept_))\n",
    "print('ridge regression linear model coeff:\\n{}'.format(linridge.coef_))\n",
    "\n",
    "print('Number of non-zero features: {}'.format(np.sum(linridge.coef_ != 0)))"
   ]
  },
  {
   "cell_type": "markdown",
   "metadata": {},
   "source": [
    "#### Ridge regression with feature normalization"
   ]
  },
  {
   "cell_type": "code",
   "execution_count": 20,
   "metadata": {},
   "outputs": [
    {
     "name": "stdout",
     "output_type": "stream",
     "text": [
      "Crime dataset\n",
      "R-squared score (training): 0.615\n",
      "R-squared score (test): 0.599\n",
      "RMSE: 454.949\n",
      "ridge regression linear model intercept: 933.3906385044124\n",
      "ridge regression linear model coeff:\n",
      "[  88.68827454   16.48947987  -50.30285445  -82.90507574  -65.89507244\n",
      "   -2.27674244   87.74108514  150.94862182   18.8802613   -31.05554992\n",
      "  -43.13536109 -189.44266328   -4.52658099  107.97866804  -76.53358414\n",
      "    2.86032762   34.95230077   90.13523036   52.46428263  -62.10898424\n",
      "  115.01780357    2.66942023    6.94331369   -5.66646499 -101.55269144\n",
      "  -36.9087526    -8.7053343    29.11999068  171.25963057   99.36919476\n",
      "   75.06611841  123.63522539   95.24316483 -330.61044265 -442.30179004\n",
      " -284.49744001 -258.37150609   17.66431072 -101.70717151  110.64762887\n",
      "  523.13611718   24.8208959     4.86533322  -30.46775619   -3.51753937\n",
      "   50.57947231   10.84840601   18.27680946   44.11189865   58.33588176\n",
      "   67.08698975  -57.93524659  116.1446052    53.81163718   49.01607711\n",
      "   -7.62262031   55.14288543  -52.08878272  123.39291017   77.12562171\n",
      "   45.49795317  184.91229771  -91.35721203    1.07975971  234.09267451\n",
      "   10.3887921    94.7171829   167.91856631  -25.14025088   -1.18242839\n",
      "   14.60362467   36.77122659   53.19878339  -78.86365997   -5.89858411\n",
      "   26.04790298  115.1534917    68.74143311   68.28588166   16.5260514\n",
      "  -97.90513652  205.20448474   75.97304123   61.3791085   -79.83157049\n",
      "   67.26700741   95.67094538  -11.88380569]\n",
      "Number of non-zero features: 88\n"
     ]
    }
   ],
   "source": [
    "from sklearn.preprocessing import MinMaxScaler\n",
    "scaler = MinMaxScaler()\n",
    "\n",
    "from sklearn.linear_model import Ridge\n",
    "X_train, X_test, y_train, y_test = train_test_split(X_crime, y_crime,\n",
    "                                                   random_state = 0)\n",
    "\n",
    "X_train_scaled = scaler.fit_transform(X_train)\n",
    "X_test_scaled = scaler.transform(X_test)\n",
    "\n",
    "linridge = Ridge(alpha=20.0).fit(X_train_scaled, y_train)\n",
    "\n",
    "print('Crime dataset')\n",
    "print('R-squared score (training): {:.3f}'\n",
    "     .format(linridge.score(X_train_scaled, y_train)))\n",
    "print('R-squared score (test): {:.3f}'\n",
    "     .format(linridge.score(X_test_scaled, y_test)))\n",
    "\n",
    "# make predictions on the testing set\n",
    "y_pred = linreg.predict(X_test)\n",
    "print('RMSE: {:.3f}'.format(np.sqrt(metrics.mean_squared_error(y_test, y_pred))))\n",
    "\n",
    "print('ridge regression linear model intercept: {}'.format(linridge.intercept_))\n",
    "print('ridge regression linear model coeff:\\n{}'.format(linridge.coef_))\n",
    "\n",
    "print('Number of non-zero features: {}'.format(np.sum(linridge.coef_ != 0)))"
   ]
  },
  {
   "cell_type": "markdown",
   "metadata": {},
   "source": [
    "#### Ridge regression with regularization parameter: alpha"
   ]
  },
  {
   "cell_type": "code",
   "execution_count": 21,
   "metadata": {},
   "outputs": [
    {
     "name": "stdout",
     "output_type": "stream",
     "text": [
      "Ridge regression: effect of alpha regularization parameter\n",
      "\n",
      "Alpha = 0.00\n",
      "num abs(coeff) > 1.0: 88, r-squared training: 0.67, r-squared test: 0.53\n",
      "\n",
      "Alpha = 1.00\n",
      "num abs(coeff) > 1.0: 87, r-squared training: 0.66, r-squared test: 0.56\n",
      "\n",
      "Alpha = 10.00\n",
      "num abs(coeff) > 1.0: 87, r-squared training: 0.63, r-squared test: 0.59\n",
      "\n",
      "Alpha = 20.00\n",
      "num abs(coeff) > 1.0: 88, r-squared training: 0.61, r-squared test: 0.60\n",
      "\n",
      "Alpha = 50.00\n",
      "num abs(coeff) > 1.0: 86, r-squared training: 0.58, r-squared test: 0.58\n",
      "\n",
      "Alpha = 100.00\n",
      "num abs(coeff) > 1.0: 87, r-squared training: 0.55, r-squared test: 0.55\n",
      "\n",
      "Alpha = 1000.00\n",
      "num abs(coeff) > 1.0: 84, r-squared training: 0.31, r-squared test: 0.30\n",
      "\n"
     ]
    }
   ],
   "source": [
    "print('Ridge regression: effect of alpha regularization parameter\\n')\n",
    "for this_alpha in [0, 1, 10, 20, 50, 100, 1000]:\n",
    "    linridge = Ridge(alpha = this_alpha).fit(X_train_scaled, y_train)\n",
    "    r2_train = linridge.score(X_train_scaled, y_train)\n",
    "    r2_test = linridge.score(X_test_scaled, y_test)\n",
    "    num_coeff_bigger = np.sum(abs(linridge.coef_) > 1.0)\n",
    "    print('Alpha = {:.2f}\\nnum abs(coeff) > 1.0: {}, \\\n",
    "r-squared training: {:.2f}, r-squared test: {:.2f}\\n'\n",
    "         .format(this_alpha, num_coeff_bigger, r2_train, r2_test))"
   ]
  },
  {
   "cell_type": "markdown",
   "metadata": {},
   "source": [
    "### Lasso regression"
   ]
  },
  {
   "cell_type": "code",
   "execution_count": 22,
   "metadata": {},
   "outputs": [
    {
     "name": "stdout",
     "output_type": "stream",
     "text": [
      "Crime dataset\n",
      "R-squared score (training): 0.631\n",
      "R-squared score (test): 0.624\n",
      "\n",
      "RMSE: 454.949\n",
      "lasso regression linear model intercept: 1186.6120619985795\n",
      "lasso regression linear model coeff:\n",
      "[    0.             0.            -0.          -168.18346054\n",
      "    -0.            -0.             0.           119.6938194\n",
      "     0.            -0.             0.          -169.67564456\n",
      "    -0.             0.            -0.             0.\n",
      "     0.             0.            -0.            -0.\n",
      "     0.            -0.             0.             0.\n",
      "   -57.52991966    -0.            -0.             0.\n",
      "   259.32889226    -0.             0.             0.\n",
      "     0.            -0.         -1188.7396867     -0.\n",
      "    -0.            -0.          -231.42347299     0.\n",
      "  1488.36512229     0.            -0.            -0.\n",
      "    -0.             0.             0.             0.\n",
      "     0.             0.            -0.             0.\n",
      "    20.14419415     0.             0.             0.\n",
      "     0.             0.           339.04468804     0.\n",
      "     0.           459.53799903    -0.             0.\n",
      "   122.69221826    -0.            91.41202242     0.\n",
      "    -0.             0.             0.            73.14365856\n",
      "     0.            -0.             0.             0.\n",
      "    86.35600042     0.             0.             0.\n",
      "  -104.57143405   264.93206555     0.            23.4488645\n",
      "   -49.39355188     0.             5.19775369     0.        ]\n",
      "Non-zero features: 20\n",
      "Features with non-zero weight (sorted by absolute magnitude):\n",
      "\tPctKidsBornNeverMar, 1488.365\n",
      "\tPctKids2Par, -1188.740\n",
      "\tHousVacant, 459.538\n",
      "\tPctPersDenseHous, 339.045\n",
      "\tNumInShelters, 264.932\n",
      "\tMalePctDivorce, 259.329\n",
      "\tPctWorkMom, -231.423\n",
      "\tpctWInvInc, -169.676\n",
      "\tagePct12t29, -168.183\n",
      "\tPctVacantBoarded, 122.692\n",
      "\tpctUrban, 119.694\n",
      "\tMedOwnCostPctIncNoMtg, -104.571\n",
      "\tMedYrHousBuilt, 91.412\n",
      "\tRentQrange, 86.356\n",
      "\tOwnOccHiQuart, 73.144\n",
      "\tPctEmplManu, -57.530\n",
      "\tPctBornSameState, -49.394\n",
      "\tPctForeignBorn, 23.449\n",
      "\tPctLargHouseFam, 20.144\n",
      "\tPctSameCity85, 5.198\n"
     ]
    }
   ],
   "source": [
    "from sklearn.linear_model import Lasso\n",
    "from sklearn.preprocessing import MinMaxScaler\n",
    "scaler = MinMaxScaler()\n",
    "\n",
    "X_train, X_test, y_train, y_test = train_test_split(X_crime, y_crime,\n",
    "                                                   random_state = 0)\n",
    "\n",
    "X_train_scaled = scaler.fit_transform(X_train)\n",
    "X_test_scaled = scaler.transform(X_test)\n",
    "\n",
    "linlasso = Lasso(alpha=2.0, max_iter = 10000).fit(X_train_scaled, y_train)\n",
    "\n",
    "print('Crime dataset')\n",
    "\n",
    "print('R-squared score (training): {:.3f}'\n",
    "     .format(linlasso.score(X_train_scaled, y_train)))\n",
    "print('R-squared score (test): {:.3f}\\n'\n",
    "     .format(linlasso.score(X_test_scaled, y_test)))\n",
    "\n",
    "# make predictions on the testing set\n",
    "y_pred = linreg.predict(X_test)\n",
    "print('RMSE: {:.3f}'.format(np.sqrt(metrics.mean_squared_error(y_test, y_pred))))\n",
    "    \n",
    "print('lasso regression linear model intercept: {}'.format(linlasso.intercept_))\n",
    "print('lasso regression linear model coeff:\\n{}'.format(linlasso.coef_))\n",
    "\n",
    "print('Non-zero features: {}'.format(np.sum(linlasso.coef_ != 0)))\n",
    " \n",
    "print('Features with non-zero weight (sorted by absolute magnitude):')\n",
    "for e in sorted (list(zip(list(X_crime), linlasso.coef_)),\n",
    "                key = lambda e: -abs(e[1])):\n",
    "    if e[1] != 0:\n",
    "        print('\\t{}, {:.3f}'.format(e[0], e[1]))"
   ]
  },
  {
   "cell_type": "markdown",
   "metadata": {},
   "source": [
    "#### Lasso regression with regularization parameter: alpha"
   ]
  },
  {
   "cell_type": "code",
   "execution_count": 23,
   "metadata": {},
   "outputs": [
    {
     "name": "stdout",
     "output_type": "stream",
     "text": [
      "Lasso regression: effect of alpha regularization\n",
      "parameter on number of features kept in final model\n",
      "\n",
      "Alpha = 0.50\n",
      "Features kept: 35, r-squared training: 0.65, r-squared test: 0.58\n",
      "\n",
      "Alpha = 1.00\n",
      "Features kept: 25, r-squared training: 0.64, r-squared test: 0.60\n",
      "\n",
      "Alpha = 2.00\n",
      "Features kept: 20, r-squared training: 0.63, r-squared test: 0.62\n",
      "\n",
      "Alpha = 3.00\n",
      "Features kept: 17, r-squared training: 0.62, r-squared test: 0.63\n",
      "\n",
      "Alpha = 5.00\n",
      "Features kept: 12, r-squared training: 0.60, r-squared test: 0.61\n",
      "\n",
      "Alpha = 10.00\n",
      "Features kept: 6, r-squared training: 0.57, r-squared test: 0.58\n",
      "\n",
      "Alpha = 20.00\n",
      "Features kept: 2, r-squared training: 0.51, r-squared test: 0.50\n",
      "\n",
      "Alpha = 50.00\n",
      "Features kept: 1, r-squared training: 0.31, r-squared test: 0.30\n",
      "\n"
     ]
    }
   ],
   "source": [
    "print('Lasso regression: effect of alpha regularization\\n\\\n",
    "parameter on number of features kept in final model\\n')\n",
    "\n",
    "for alpha in [0.5, 1, 2, 3, 5, 10, 20, 50]:\n",
    "    linlasso = Lasso(alpha, max_iter = 10000).fit(X_train_scaled, y_train)\n",
    "    r2_train = linlasso.score(X_train_scaled, y_train)\n",
    "    r2_test = linlasso.score(X_test_scaled, y_test)\n",
    "    \n",
    "    print('Alpha = {:.2f}\\nFeatures kept: {}, r-squared training: {:.2f}, \\\n",
    "r-squared test: {:.2f}\\n'\n",
    "         .format(alpha, np.sum(linlasso.coef_ != 0), r2_train, r2_test))"
   ]
  },
  {
   "cell_type": "markdown",
   "metadata": {},
   "source": [
    "## Part 1: Linear Regression Modeling on Breast Cancer dataset\n",
    "\n",
    "a. Obtain the exact theta vector using closed form.\n",
    "\n",
    "b. Obtain the optimal theta vector using Gradient Descent.\n",
    "\n",
    "c. Apply the following regression model on breast cancer dataset:\n",
    "\n",
    "    (1) Linear regression without regularization\n",
    "\n",
    "    (2) Ridge regression \n",
    "\n",
    "    (3) Ridge regression with feature normalization\n",
    "\n",
    "    (4) Ridge regression with regularization parameter: alpha\n",
    "\n",
    "    (5) Lasso regression\n",
    "\n",
    "    (6) Lasso regression with regularization parameter: alpha"
   ]
  },
  {
   "cell_type": "markdown",
   "metadata": {},
   "source": [
    "### Dataloading: Breast cancer dataset"
   ]
  },
  {
   "cell_type": "code",
   "execution_count": 24,
   "metadata": {},
   "outputs": [
    {
     "name": "stdout",
     "output_type": "stream",
     "text": [
      "['mean radius' 'mean texture' 'mean perimeter' 'mean area'\n",
      " 'mean smoothness' 'mean compactness' 'mean concavity'\n",
      " 'mean concave points' 'mean symmetry' 'mean fractal dimension'\n",
      " 'radius error' 'texture error' 'perimeter error' 'area error'\n",
      " 'smoothness error' 'compactness error' 'concavity error'\n",
      " 'concave points error' 'symmetry error' 'fractal dimension error'\n",
      " 'worst radius' 'worst texture' 'worst perimeter' 'worst area'\n",
      " 'worst smoothness' 'worst compactness' 'worst concavity'\n",
      " 'worst concave points' 'worst symmetry' 'worst fractal dimension']\n",
      "[0 0 0 0 0 0 0 0 0 0 0 0 0 0 0 0 0 0 0 1 1 1 0 0 0 0 0 0 0 0 0 0 0 0 0 0 0\n",
      " 1 0 0 0 0 0 0 0 0 1 0 1 1 1 1 1 0 0 1 0 0 1 1 1 1 0 1 0 0 1 1 1 1 0 1 0 0\n",
      " 1 0 1 0 0 1 1 1 0 0 1 0 0 0 1 1 1 0 1 1 0 0 1 1 1 0 0 1 1 1 1 0 1 1 0 1 1\n",
      " 1 1 1 1 1 1 0 0 0 1 0 0 1 1 1 0 0 1 0 1 0 0 1 0 0 1 1 0 1 1 0 1 1 1 1 0 1\n",
      " 1 1 1 1 1 1 1 1 0 1 1 1 1 0 0 1 0 1 1 0 0 1 1 0 0 1 1 1 1 0 1 1 0 0 0 1 0\n",
      " 1 0 1 1 1 0 1 1 0 0 1 0 0 0 0 1 0 0 0 1 0 1 0 1 1 0 1 0 0 0 0 1 1 0 0 1 1\n",
      " 1 0 1 1 1 1 1 0 0 1 1 0 1 1 0 0 1 0 1 1 1 1 0 1 1 1 1 1 0 1 0 0 0 0 0 0 0\n",
      " 0 0 0 0 0 0 0 1 1 1 1 1 1 0 1 0 1 1 0 1 1 0 1 0 0 1 1 1 1 1 1 1 1 1 1 1 1\n",
      " 1 0 1 1 0 1 0 1 1 1 1 1 1 1 1 1 1 1 1 1 1 0 1 1 1 0 1 0 1 1 1 1 0 0 0 1 1\n",
      " 1 1 0 1 0 1 0 1 1 1 0 1 1 1 1 1 1 1 0 0 0 1 1 1 1 1 1 1 1 1 1 1 0 0 1 0 0\n",
      " 0 1 0 0 1 1 1 1 1 0 1 1 1 1 1 0 1 1 1 0 1 1 0 0 1 1 1 1 1 1 0 1 1 1 1 1 1\n",
      " 1 0 1 1 1 1 1 0 1 1 0 1 1 1 1 1 1 1 1 1 1 1 1 0 1 0 0 1 0 1 1 1 1 1 0 1 1\n",
      " 0 1 0 1 1 0 1 0 1 1 1 1 1 1 1 1 0 0 1 1 1 1 1 1 0 1 1 1 1 1 1 1 1 1 1 0 1\n",
      " 1 1 1 1 1 1 0 1 0 1 1 0 1 1 1 1 1 0 0 1 0 1 0 1 1 1 1 1 0 1 1 0 1 0 1 0 0\n",
      " 1 1 1 0 1 1 1 1 1 1 1 1 1 1 1 0 1 0 0 1 1 1 1 1 1 1 1 1 1 1 1 1 1 1 1 1 1\n",
      " 1 1 1 1 1 1 1 0 0 0 0 0 0 1]\n",
      "(569, 30) \t (569,)\n"
     ]
    }
   ],
   "source": [
    "from sklearn.datasets import load_breast_cancer\n",
    "\n",
    "# Breast cancer dataset for classification\n",
    "cancer = load_breast_cancer()\n",
    "(X_cancer, y_cancer) = load_breast_cancer(return_X_y = True)\n",
    "\n",
    "print(cancer.feature_names)\n",
    "print(y_cancer)\n",
    "print(X_cancer.shape, '\\t', y_cancer.shape)"
   ]
  },
  {
   "cell_type": "markdown",
   "metadata": {},
   "source": [
    "#### A. (Closed form)\n",
    "\n"
   ]
  },
  {
   "cell_type": "code",
   "execution_count": 25,
   "metadata": {},
   "outputs": [
    {
     "name": "stdout",
     "output_type": "stream",
     "text": [
      "(569, 31) \n",
      " (569, 1)\n",
      "[ 3.02181174e+00  2.17772056e-01 -4.54546867e-03 -2.37398610e-02\n",
      " -3.17834750e-04 -8.46891371e-02  4.22203525e+00 -1.39799728e+00\n",
      " -2.14183303e+00 -1.02709200e-01 -3.32616095e-02 -4.34955932e-01\n",
      "  6.75847233e-03  2.25202577e-02  9.23217886e-04 -1.58543207e+01\n",
      " -6.49034090e-02  3.56546799e+00 -1.05679513e+01 -1.69734069e+00\n",
      "  7.14644015e+00 -1.95183121e-01 -7.15937520e-03  2.43505057e-03\n",
      "  1.01122332e-03 -5.42856861e-01 -6.71582941e-02 -3.81191215e-01\n",
      " -4.64309895e-01 -5.56787546e-01 -4.30348309e+00]\n"
     ]
    }
   ],
   "source": [
    "X = np.c_[np.ones((569,1)),X_cancer]\n",
    "y = y_cancer.reshape(569,1)\n",
    "print(X.shape, '\\n', y.shape)\n",
    "theta_best = np.linalg.inv(X.T.dot(X)).dot(X.T).dot(y_cancer)\n",
    "print(theta_best)"
   ]
  },
  {
   "cell_type": "markdown",
   "metadata": {},
   "source": [
    "#### B. (Gradient descent). "
   ]
  },
  {
   "cell_type": "code",
   "execution_count": 26,
   "metadata": {},
   "outputs": [
    {
     "name": "stdout",
     "output_type": "stream",
     "text": [
      "initial theta: \n",
      " [[ 0.96864499]\n",
      " [-1.34938997]\n",
      " [-1.01907279]\n",
      " [ 0.12701224]\n",
      " [-1.24944372]\n",
      " [ 1.94511561]\n",
      " [-0.15333646]\n",
      " [-0.90698723]\n",
      " [-0.81735416]\n",
      " [-0.48312268]\n",
      " [-0.56982835]\n",
      " [-2.09159967]\n",
      " [ 1.26374053]\n",
      " [-0.01548334]\n",
      " [-0.02737645]\n",
      " [ 0.81787351]\n",
      " [-1.05460447]\n",
      " [-0.75832712]\n",
      " [ 0.45741565]\n",
      " [-0.06437805]\n",
      " [ 0.34490234]\n",
      " [-0.08008734]\n",
      " [-0.24138013]\n",
      " [ 1.43351549]\n",
      " [ 1.06579371]\n",
      " [-2.49875914]\n",
      " [ 1.48032856]\n",
      " [ 2.15872852]\n",
      " [ 1.23177838]\n",
      " [-0.21432448]\n",
      " [-0.68919421]] (31, 1)\n",
      "best theta: \n",
      " [[2.61925448e+45]\n",
      " [4.23237057e+46]\n",
      " [5.28153763e+46]\n",
      " [2.77582427e+47]\n",
      " [2.25579540e+48]\n",
      " [2.56796680e+44]\n",
      " [3.15608760e+44]\n",
      " [3.18217915e+44]\n",
      " [1.78066803e+44]\n",
      " [4.81868046e+44]\n",
      " [1.61726730e+44]\n",
      " [1.38847170e+45]\n",
      " [3.11959955e+45]\n",
      " [9.84094929e+45]\n",
      " [1.63794125e+47]\n",
      " [1.76014689e+43]\n",
      " [7.25115433e+43]\n",
      " [9.28313998e+43]\n",
      " [3.43311986e+43]\n",
      " [5.25221176e+43]\n",
      " [9.85062278e+42]\n",
      " [5.00811188e+46]\n",
      " [7.04439837e+46]\n",
      " [3.32572984e+47]\n",
      " [3.19517180e+48]\n",
      " [3.53320271e+44]\n",
      " [7.71472504e+44]\n",
      " [8.89138787e+44]\n",
      " [3.77065831e+44]\n",
      " [7.78301085e+44]\n",
      " [2.21499405e+44]]\n"
     ]
    }
   ],
   "source": [
    "# learning rate\n",
    "alpha = 0.05\n",
    "\n",
    "# number of iterations\n",
    "n_iteration = 10\n",
    "\n",
    "# the number of data points\n",
    "n = 569\n",
    "\n",
    "# random initialization to theta. \n",
    "# Return samples (2 values for theta0 for x0 and theta1 for x1) \n",
    "# from the “standard normal” distribution.\n",
    "theta = np.random.randn(31, 1)\n",
    "\n",
    "print('initial theta: \\n', theta, theta.shape)\n",
    "\n",
    "# the process of gradient descent\n",
    "for iteration in range(n_iteration):\n",
    "    gradient = (1/n) * X.T.dot(X.dot(theta) - y)\n",
    "    theta = theta - alpha*gradient\n",
    "    \n",
    "print('best theta: \\n', theta)"
   ]
  },
  {
   "cell_type": "markdown",
   "metadata": {},
   "source": [
    "(1) Linear regression without regularization"
   ]
  },
  {
   "cell_type": "code",
   "execution_count": 27,
   "metadata": {},
   "outputs": [
    {
     "name": "stdout",
     "output_type": "stream",
     "text": [
      "Cancer dataset\n",
      "R-squared score (training): 0.782\n",
      "R-squared score (test): 0.729\n",
      "RMSE: 0.251\n",
      "linear model intercept: 3.264323682949656\n",
      "linear model coeff:\n",
      "[ 1.95664033e-01 -1.24998359e-02 -1.83925145e-02 -3.08554299e-04\n",
      " -6.58769659e-01  4.67316114e+00 -1.41047944e+00 -1.79519061e+00\n",
      " -1.02466251e+00 -8.16682870e-01 -6.95506836e-01 -2.65194673e-02\n",
      "  6.52894932e-02  3.22253562e-04 -1.16323309e+01 -4.43943865e-02\n",
      "  3.04134165e+00 -8.31729413e+00 -2.44644000e+00  1.96844051e+01\n",
      " -1.78964757e-01 -2.00410588e-04 -4.02896117e-03  1.17548563e-03\n",
      " -4.04988322e-01 -1.15267671e-01 -4.11583121e-01 -9.11239745e-01\n",
      " -1.12925131e-01 -5.02459596e+00]\n",
      "Number of non-zero features: 30\n"
     ]
    }
   ],
   "source": [
    "X_train, X_test, y_train, y_test = train_test_split(X_cancer, y_cancer, random_state=0)\n",
    "linreg = LinearRegression().fit(X_train, y_train)\n",
    "\n",
    "print('Cancer dataset')\n",
    "print('R-squared score (training): {:.3f}'\n",
    "     .format(linreg.score(X_train, y_train)))\n",
    "print('R-squared score (test): {:.3f}'\n",
    "     .format(linreg.score(X_test, y_test)))\n",
    "\n",
    "# make predictions on the testing set\n",
    "y_pred = linreg.predict(X_test)\n",
    "print('RMSE: {:.3f}'.format(np.sqrt(metrics.mean_squared_error(y_test, y_pred))))\n",
    "\n",
    "print('linear model intercept: {}'.format(linreg.intercept_))\n",
    "print('linear model coeff:\\n{}'.format(linreg.coef_))\n",
    "\n",
    "print('Number of non-zero features: {}'.format(np.sum(linreg.coef_ != 0)))"
   ]
  },
  {
   "cell_type": "markdown",
   "metadata": {},
   "source": [
    "(2) Ridge regression "
   ]
  },
  {
   "cell_type": "code",
   "execution_count": 28,
   "metadata": {},
   "outputs": [
    {
     "name": "stdout",
     "output_type": "stream",
     "text": [
      "R-squared score (training): 0.718\n",
      "R-squared score (test): 0.701\n",
      "RMSE: 0.251\n",
      "ridge regression linear model intercept: 2.887658152365881\n",
      "ridge regression linear model coeff:\n",
      "[ 8.95459514e-02  4.96576604e-03 -6.53071472e-03 -9.38715208e-06\n",
      " -1.70744323e-02 -2.48627421e-02 -4.93503540e-02 -2.77020642e-02\n",
      " -3.06915402e-02 -4.70309146e-03 -4.64609813e-02 -1.10244435e-02\n",
      " -1.66584359e-02 -3.44749865e-04 -2.54152959e-03  2.62285611e-04\n",
      " -1.16547194e-03 -2.54907417e-03 -5.31339660e-03 -7.79367812e-05\n",
      " -1.60523115e-01 -1.55701325e-02 -6.49252297e-03  1.01356127e-03\n",
      " -3.15652552e-02 -8.47221763e-02 -1.40803334e-01 -5.21846681e-02\n",
      " -6.76483639e-02 -1.53442711e-02]\n",
      "Number of non-zero features: 30\n"
     ]
    }
   ],
   "source": [
    "X_train, X_test, y_train, y_test = train_test_split(X_cancer, y_cancer, random_state=0)\n",
    "\n",
    "linridge = Ridge(alpha = 20.0).fit(X_train, y_train)\n",
    "\n",
    "print('R-squared score (training): {:.3f}'\n",
    "     .format(linridge.score(X_train, y_train)))\n",
    "print('R-squared score (test): {:.3f}'\n",
    "     .format(linridge.score(X_test, y_test)))\n",
    "\n",
    "# make predictions on the testing set\n",
    "y_pred = linreg.predict(X_test)\n",
    "print('RMSE: {:.3f}'.format(np.sqrt(metrics.mean_squared_error(y_test, y_pred))))\n",
    "\n",
    "print('ridge regression linear model intercept: {}'.format(linridge.intercept_))\n",
    "print('ridge regression linear model coeff:\\n{}'.format(linridge.coef_))\n",
    "\n",
    "print('Number of non-zero features: {}'.format(np.sum(linridge.coef_ != 0)))"
   ]
  },
  {
   "cell_type": "markdown",
   "metadata": {},
   "source": [
    "(3) Ridge regression with feature normalization"
   ]
  },
  {
   "cell_type": "code",
   "execution_count": 35,
   "metadata": {},
   "outputs": [
    {
     "name": "stdout",
     "output_type": "stream",
     "text": [
      "Crime dataset\n",
      "R-squared score (training): 0.698\n",
      "R-squared score (test): 0.696\n",
      "RMSE: 0.251\n",
      "ridge regression linear model intercept: 1.407528762029437\n",
      "ridge regression linear model coeff:\n",
      "[-0.15953124 -0.14083798 -0.15623107 -0.11422388 -0.0739519  -0.07506947\n",
      " -0.11895532 -0.191061   -0.07479776  0.06879125 -0.07719428 -0.00264562\n",
      " -0.05536349 -0.03226534  0.02846709  0.04759806  0.03104476 -0.02518334\n",
      " -0.00139326  0.04768871 -0.20126066 -0.16533176 -0.18362235 -0.1237563\n",
      " -0.13628769 -0.11408258 -0.13774801 -0.27762586 -0.13141221 -0.05403194]\n",
      "Number of non-zero features: 30\n"
     ]
    }
   ],
   "source": [
    "scaler = MinMaxScaler()\n",
    "\n",
    "X_train, X_test, y_train, y_test = train_test_split(X_cancer, y_cancer,\n",
    "                                                   random_state = 0)\n",
    "\n",
    "X_train_scaled = scaler.fit_transform(X_train)\n",
    "X_test_scaled = scaler.transform(X_test)\n",
    "\n",
    "linridge = Ridge(alpha=20.0).fit(X_train_scaled, y_train)\n",
    "\n",
    "print('Crime dataset')\n",
    "print('R-squared score (training): {:.3f}'\n",
    "     .format(linridge.score(X_train_scaled, y_train)))\n",
    "print('R-squared score (test): {:.3f}'\n",
    "     .format(linridge.score(X_test_scaled, y_test)))\n",
    "\n",
    "# make predictions on the testing set\n",
    "y_pred = linreg.predict(X_test)\n",
    "print('RMSE: {:.3f}'.format(np.sqrt(metrics.mean_squared_error(y_test, y_pred))))\n",
    "\n",
    "print('ridge regression linear model intercept: {}'.format(linridge.intercept_))\n",
    "print('ridge regression linear model coeff:\\n{}'.format(linridge.coef_))\n",
    "\n",
    "print('Number of non-zero features: {}'.format(np.sum(linridge.coef_ != 0)))"
   ]
  },
  {
   "cell_type": "markdown",
   "metadata": {},
   "source": [
    "(4) Ridge regression with regularization parameter: alpha"
   ]
  },
  {
   "cell_type": "code",
   "execution_count": 30,
   "metadata": {},
   "outputs": [
    {
     "name": "stdout",
     "output_type": "stream",
     "text": [
      "Ridge regression: effect of alpha regularization parameter\n",
      "\n",
      "Alpha = 0.00\n",
      "num abs(coeff) > 1.0: 0, r-squared training: 0.78, r-squared test: 0.73\n",
      "\n",
      "Alpha = 1.00\n",
      "num abs(coeff) > 1.0: 0, r-squared training: 0.78, r-squared test: 0.73\n",
      "\n",
      "Alpha = 10.00\n",
      "num abs(coeff) > 1.0: 0, r-squared training: 0.77, r-squared test: 0.74\n",
      "\n",
      "Alpha = 20.00\n",
      "num abs(coeff) > 1.0: 0, r-squared training: 0.76, r-squared test: 0.73\n",
      "\n",
      "Alpha = 50.00\n",
      "num abs(coeff) > 1.0: 0, r-squared training: 0.75, r-squared test: 0.73\n",
      "\n",
      "Alpha = 100.00\n",
      "num abs(coeff) > 1.0: 0, r-squared training: 0.74, r-squared test: 0.72\n",
      "\n",
      "Alpha = 1000.00\n",
      "num abs(coeff) > 1.0: 0, r-squared training: 0.69, r-squared test: 0.68\n",
      "\n"
     ]
    }
   ],
   "source": [
    "print('Ridge regression: effect of alpha regularization parameter\\n')\n",
    "for this_alpha in [0, 1, 10, 20, 50, 100, 1000]:\n",
    "    linridge = Ridge(alpha = this_alpha).fit(X_train_scaled, y_train)\n",
    "    r2_train = linridge.score(X_train_scaled, y_train)\n",
    "    r2_test = linridge.score(X_test_scaled, y_test)\n",
    "    num_coeff_bigger = np.sum(abs(linridge.coef_) > 1.0)\n",
    "    print('Alpha = {:.2f}\\nnum abs(coeff) > 1.0: {}, \\\n",
    "r-squared training: {:.2f}, r-squared test: {:.2f}\\n'\n",
    "         .format(this_alpha, num_coeff_bigger, r2_train, r2_test))"
   ]
  },
  {
   "cell_type": "markdown",
   "metadata": {},
   "source": [
    "(5) Lasso regression"
   ]
  },
  {
   "cell_type": "code",
   "execution_count": 31,
   "metadata": {},
   "outputs": [
    {
     "name": "stdout",
     "output_type": "stream",
     "text": [
      "Cancer dataset\n",
      "R-squared score (training): 0.7372847248\n",
      "R-squared score (test): 0.7212912343\n",
      "\n",
      "RMSE: 0.2513430205\n",
      "lasso regression linear model intercept: 1.5245392771687607\n",
      "lasso regression linear model coeff:\n",
      "\n",
      "['-0.0000000000', '-0.2683460905', '-0.0000000000', '0.0000000000', '-0.0000000000', '0.0000000000', '-0.0000000000', '-0.2715180087', '-0.0131858633', '0.2051547104', '-0.2673298864', '-0.0484496692', '-0.0000000000', '0.0000000000', '-0.0000000000', '0.2062584619', '0.0000000000', '0.0000000000', '-0.0589168966', '0.0000000000', '-0.7263446337', '-0.1359540602', '-0.0000000000', '0.0000000000', '-0.2358899109', '-0.0000000000', '-0.1074063355', '-0.7209760579', '-0.3190389618', '-0.0765210315']\n",
      "Non-zero features: 15\n",
      "Features with non-zero weight (sorted by absolute magnitude):\n",
      "\tPctNotHSGrad, -0.7263446337\n",
      "\tPctOccupMgmtProf, -0.7209760579\n",
      "\tMalePctDivorce, -0.3190389618\n",
      "\tpctUrban, -0.2715180087\n",
      "\thouseholdsize, -0.2683460905\n",
      "\tpctWFarmSelf, -0.2673298864\n",
      "\tPctEmplManu, -0.2358899109\n",
      "\tmedFamInc, 0.2062584619\n",
      "\tpctWWage, 0.2051547104\n",
      "\tPctBSorMore, -0.1359540602\n",
      "\tPctOccupManu, -0.1074063355\n",
      "\tMalePctNevMarr, -0.0765210315\n",
      "\tPctPopUnderPov, -0.0589168966\n",
      "\tpctWInvInc, -0.0484496692\n",
      "\tmedIncome, -0.0131858633\n"
     ]
    }
   ],
   "source": [
    "scaler = MinMaxScaler()\n",
    "\n",
    "X_train, X_test, y_train, y_test = train_test_split(X_cancer, y_cancer,\n",
    "                                                   random_state = 0)\n",
    "\n",
    "X_train_scaled = scaler.fit_transform(X_train)\n",
    "X_test_scaled = scaler.transform(X_test)\n",
    "\n",
    "linlasso = Lasso(alpha=.001, max_iter = 10000).fit(X_train_scaled, y_train)\n",
    "\n",
    "print('Cancer dataset')\n",
    "\n",
    "print('R-squared score (training): {:.10f}'\n",
    "     .format(linlasso.score(X_train_scaled, y_train)))\n",
    "print('R-squared score (test): {:.10f}\\n'\n",
    "     .format(linlasso.score(X_test_scaled, y_test)))\n",
    "\n",
    "# make predictions on the testing set\n",
    "y_pred = linreg.predict(X_test)\n",
    "print('RMSE: {:.10f}'.format(np.sqrt(metrics.mean_squared_error(y_test, y_pred))))\n",
    "    \n",
    "print('lasso regression linear model intercept: {}'.format(linlasso.intercept_))\n",
    "print('lasso regression linear model coeff:\\n')\n",
    "print(list(map('{:.10f}'.format, linlasso.coef_)))\n",
    "\n",
    "print('Non-zero features: {}'.format(np.sum(linlasso.coef_ != 0)))\n",
    " \n",
    "print('Features with non-zero weight (sorted by absolute magnitude):')\n",
    "for e in sorted (list(zip(list(X_crime), linlasso.coef_)),\n",
    "                key = lambda e: -abs(e[1])):\n",
    "    if e[1] != 0:\n",
    "        print('\\t{}, {:.10f}'.format(e[0], e[1]))"
   ]
  },
  {
   "cell_type": "markdown",
   "metadata": {},
   "source": [
    "(6) Lasso regression with regularization parameter: alpha"
   ]
  },
  {
   "cell_type": "code",
   "execution_count": 36,
   "metadata": {
    "scrolled": true
   },
   "outputs": [
    {
     "name": "stdout",
     "output_type": "stream",
     "text": [
      "Lasso regression: effect of alpha regularization\n",
      "parameter on number of features kept in final model\n",
      "\n",
      "Alpha = 0.001\n",
      "Features kept: 15, r-squared training: 0.73728472479294526742, r-squared test: 0.72129123429883834628\n",
      "\n",
      "Alpha = 0.002\n",
      "Features kept: 11, r-squared training: 0.72818678110502288447, r-squared test: 0.72175250163222504085\n",
      "\n",
      "Alpha = 0.003\n",
      "Features kept: 8, r-squared training: 0.72182956475546522501, r-squared test: 0.72099239749172894243\n",
      "\n",
      "Alpha = 0.004\n",
      "Features kept: 7, r-squared training: 0.71710775245119351418, r-squared test: 0.71702652546457734672\n",
      "\n",
      "Alpha = 0.005\n",
      "Features kept: 7, r-squared training: 0.71120786980190486837, r-squared test: 0.71170992317093961788\n",
      "\n",
      "Alpha = 0.010\n",
      "Features kept: 5, r-squared training: 0.68971896127878706828, r-squared test: 0.68816772583744723057\n",
      "\n",
      "Alpha = 0.050\n",
      "Features kept: 1, r-squared training: 0.42307602344443973053, r-squared test: 0.42091192945536537451\n",
      "\n",
      "Alpha = 0.100\n",
      "Features kept: 0, r-squared training: 0.00000000000000000000, r-squared test: -0.00002920496374203552\n",
      "\n"
     ]
    }
   ],
   "source": [
    "print('Lasso regression: effect of alpha regularization\\n\\\n",
    "parameter on number of features kept in final model\\n')\n",
    "\n",
    "for alpha in [0.001, 0.002, 0.003, 0.004, 0.005, 0.01, .05, 0.1]:\n",
    "    linlasso = Lasso(alpha, max_iter = 10000).fit(X_train_scaled, y_train)\n",
    "    r2_train = linlasso.score(X_train_scaled, y_train)\n",
    "    r2_test = linlasso.score(X_test_scaled, y_test)\n",
    "    \n",
    "    print('Alpha = {:.3f}\\nFeatures kept: {}, r-squared training: {:.20f}, \\\n",
    "r-squared test: {:.20f}\\n'\n",
    "         .format(alpha, np.sum(linlasso.coef_ != 0), r2_train, r2_test))"
   ]
  },
  {
   "cell_type": "markdown",
   "metadata": {},
   "source": [
    "## Part 2\n",
    "\n",
    "- Submit your summary to Canvas\n",
    "- Provide a link to your Git repo of the assignment."
   ]
  },
  {
   "cell_type": "markdown",
   "metadata": {},
   "source": [
    "Summary of findings from modeling exercise: \n",
    "\n",
    "It is important to scale the data before performing Ridge Regression, as it is sensitive to the scale of the input features. As seen in this exercise, it is necessary to standardize the predictors before fitting the model since the penalties are a function of the size of the coefficients, which depends on the scale of the data.\n",
    "\n",
    "When changing the alpha values in ridge regression, the lower the value is, the higher the r-squared value is. As the alpha value gets larger, the lower the r-squared value are but the difference between the r-squared values for testing and training set get smaller. \n",
    "\n",
    "When changing the alpha values in Lasso regression, the larger the alpha value, the less features are kept and the lower the r-squared score is. "
   ]
  }
 ],
 "metadata": {
  "anaconda-cloud": {},
  "kernelspec": {
   "display_name": "Python 3 (ipykernel)",
   "language": "python",
   "name": "python3"
  },
  "language_info": {
   "codemirror_mode": {
    "name": "ipython",
    "version": 3
   },
   "file_extension": ".py",
   "mimetype": "text/x-python",
   "name": "python",
   "nbconvert_exporter": "python",
   "pygments_lexer": "ipython3",
   "version": "3.9.7"
  }
 },
 "nbformat": 4,
 "nbformat_minor": 2
}
